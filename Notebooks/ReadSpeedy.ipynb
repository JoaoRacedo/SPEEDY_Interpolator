{
 "cells": [
  {
   "cell_type": "code",
   "execution_count": 1,
   "metadata": {},
   "outputs": [],
   "source": [
    "import numpy as np\n",
    "import pandas as pd\n",
    "from netCDF4 import Dataset"
   ]
  },
  {
   "cell_type": "code",
   "execution_count": 2,
   "metadata": {},
   "outputs": [],
   "source": [
    "# Lat -90 a 90  Y\n",
    "# Log 0 a 360 (recordar quitar unidad -2.5) X"
   ]
  },
  {
   "cell_type": "markdown",
   "metadata": {},
   "source": [
    "## SPEEDY"
   ]
  },
  {
   "cell_type": "code",
   "execution_count": 3,
   "metadata": {},
   "outputs": [],
   "source": [
    "## SPEEDY Grid\n",
    "nlon=96;\n",
    "nlat=48;\n",
    "nlev=7;\n",
    "filename = '../1982010706.grd'"
   ]
  },
  {
   "cell_type": "code",
   "execution_count": 4,
   "metadata": {},
   "outputs": [],
   "source": [
    "infile = open(filename, \"rb\")    \n",
    "data = np.fromfile(infile , '>f4')"
   ]
  },
  {
   "cell_type": "code",
   "execution_count": 5,
   "metadata": {},
   "outputs": [],
   "source": [
    "U1 = data[range(0,nlon*nlat*nlev)].reshape(nlev,nlat,nlon).astype('float32') #Big Endian -> float 32\n",
    "U1 = U1.T"
   ]
  },
  {
   "cell_type": "code",
   "execution_count": 6,
   "metadata": {},
   "outputs": [],
   "source": [
    "l = 0\n",
    "U2 = np.empty([nlon, nlat,nlev])\n",
    "for k in range(nlev):\n",
    "    for j in range(nlat):\n",
    "        for i in range(nlon):\n",
    "            U2[i,j,k] = data[l]\n",
    "            l=l+1"
   ]
  },
  {
   "cell_type": "code",
   "execution_count": 7,
   "metadata": {},
   "outputs": [],
   "source": [
    "V = np.empty([nlon, nlat,nlev])\n",
    "for k in range(nlev):\n",
    "    for j in range(nlat):\n",
    "        for i in range(nlon):\n",
    "            V[i,j,k] = data[l]\n",
    "            l=l+1"
   ]
  },
  {
   "cell_type": "code",
   "execution_count": 8,
   "metadata": {},
   "outputs": [],
   "source": [
    "T = np.empty([nlon, nlat,nlev])\n",
    "for k in range(nlev):\n",
    "    for j in range(nlat):\n",
    "        for i in range(nlon):\n",
    "            T[i,j,k] = data[l]\n",
    "            l=l+1"
   ]
  },
  {
   "cell_type": "code",
   "execution_count": 9,
   "metadata": {},
   "outputs": [],
   "source": [
    "SH = np.empty([nlon, nlat,nlev])\n",
    "for k in range(nlev):\n",
    "    for j in range(nlat):\n",
    "        for i in range(nlon):\n",
    "            SH[i,j,k] = data[l]\n",
    "            l=l+1"
   ]
  },
  {
   "cell_type": "code",
   "execution_count": 10,
   "metadata": {},
   "outputs": [],
   "source": [
    "p = np.empty([nlon, nlat])\n",
    "for j in range(nlat):\n",
    "    for i in range(nlon):\n",
    "        p[i,j] = data[l]\n",
    "        l=l+1"
   ]
  },
  {
   "cell_type": "code",
   "execution_count": 11,
   "metadata": {},
   "outputs": [
    {
     "data": {
      "text/plain": [
       "array([ 4.05713909e-05,  8.87141039e-04, -8.81265383e-04,  1.22069323e-03,\n",
       "       -3.10500764e-04,  3.62123991e-03,  3.21032782e-03,  4.02746722e-03,\n",
       "        3.56950727e-03,  3.70583544e-03,  5.40989172e-03,  6.57317322e-03,\n",
       "        1.06183495e-02,  1.09392842e-02,  1.03080077e-02,  1.22994976e-02,\n",
       "        1.19995577e-02,  1.05450759e-02,  9.70318913e-03,  1.09562110e-02,\n",
       "        1.08410465e-02,  1.15954382e-02,  1.38215758e-02,  1.63094476e-02,\n",
       "        1.64159257e-02,  1.03599923e-02,  4.68378142e-03,  1.86545157e-03,\n",
       "        1.84768357e-03,  2.15046457e-03,  3.23152263e-03,  3.78454896e-03,\n",
       "        2.25645164e-03,  5.78350248e-03,  4.45432775e-03,  5.59968455e-03,\n",
       "        6.12347620e-03,  4.43600072e-03,  4.13084123e-03,  4.87066852e-03,\n",
       "        5.82009461e-03,  4.98007983e-03,  4.41122102e-03,  1.38837425e-03,\n",
       "        4.05908376e-03,  1.56618236e-03,  2.13449891e-03, -6.27837318e-04])"
      ]
     },
     "execution_count": 11,
     "metadata": {},
     "output_type": "execute_result"
    }
   ],
   "source": [
    "SH[:,:,0][0]"
   ]
  },
  {
   "cell_type": "code",
   "execution_count": 12,
   "metadata": {},
   "outputs": [
    {
     "data": {
      "text/plain": [
       "array([], shape=(0, 2), dtype=int64)"
      ]
     },
     "execution_count": 12,
     "metadata": {},
     "output_type": "execute_result"
    }
   ],
   "source": [
    "np.argwhere(np.isnan(p))"
   ]
  },
  {
   "cell_type": "code",
   "execution_count": 14,
   "metadata": {},
   "outputs": [
    {
     "name": "stdout",
     "output_type": "stream",
     "text": [
      "U -22.282438278198242 76.8266830444336\n",
      "V -38.026363372802734 40.099510192871094\n",
      "T 187.5735321044922 303.6754150390625\n",
      "SH -0.004049503710120916 0.019545935094356537\n",
      "p 52030.33203125 107876.8671875\n"
     ]
    }
   ],
   "source": [
    "print('U', U2.min(),U2.max())\n",
    "print('V', V.min(),V.max())\n",
    "print('T', T.min(),T.max())\n",
    "print('SH', SH.min(),SH.max())\n",
    "print('p', p.min(),p.max())"
   ]
  },
  {
   "cell_type": "code",
   "execution_count": null,
   "metadata": {},
   "outputs": [],
   "source": [
    "df_speedy1 = pd.DataFrame(data = U1[:,:,0]) # option 1\n",
    "df_speedy2 = pd.DataFrame(data = U2[:,:,0]) # option 2"
   ]
  },
  {
   "cell_type": "code",
   "execution_count": null,
   "metadata": {},
   "outputs": [],
   "source": [
    "df_speedy1.equals(df_speedy2) # Check value and type"
   ]
  },
  {
   "cell_type": "code",
   "execution_count": null,
   "metadata": {},
   "outputs": [],
   "source": [
    "df_speedy1"
   ]
  },
  {
   "cell_type": "code",
   "execution_count": null,
   "metadata": {
    "scrolled": true
   },
   "outputs": [],
   "source": [
    "df_speedy1.info() #Big Endian - float 32"
   ]
  },
  {
   "cell_type": "markdown",
   "metadata": {},
   "source": [
    "## NOAA"
   ]
  },
  {
   "cell_type": "code",
   "execution_count": null,
   "metadata": {},
   "outputs": [],
   "source": [
    "import numpy as np\n",
    "from scipy.interpolate import griddata\n",
    "# Default pressure leves\n",
    "pressure_levels = [1,2,3,5,7,9,11]\n",
    "\n",
    "# Grids definition for SPEEDY and NOAA\n",
    "X_speedy_long = np.linspace(360-3.75,0,96)\n",
    "Y_speedy_lat = np.array(\"-87.159 -83.479 -79.777 -76.070 -72.362 -68.652 -64.942 -61.232 -57.521 -53.810 -50.099 -46.389 -42.678 -38.967 -35.256 -31.545 -27.833 -24.122 -20.411 -16.700 -12.989 -9.278 -5.567 -1.856 1.856 5.567 9.278 12.989 16.700 20.411 24.122 27.833 31.545 35.256 38.967 42.678 46.389 50.099 53.810 57.521 61.232 64.942 68.652 72.362 76.070 79.777 83.479 87.159\".split(\" \"))\n",
    "Y_speedy_lat = Y_speedy_lat.astype(np.float32)\n",
    "X_noaa_long = np.linspace(360-2.5,0,144)\n",
    "Y_noaa_lat = np.linspace(-90,90,73)\n",
    "X_grid, Y_grid = np.meshgrid(X_noaa_long,Y_noaa_lat)"
   ]
  },
  {
   "cell_type": "code",
   "execution_count": null,
   "metadata": {},
   "outputs": [],
   "source": [
    "def ReadData(path, variable_name):\n",
    "    '''\n",
    "        input variables:\n",
    "            path          : path of the variable to be read\n",
    "            variable_name : name of the variable\n",
    "        output variable\n",
    "            variable_array: 3-dimensional array with all the pressure levels of the given variable\n",
    "    '''\n",
    "    variable = Dataset(path,'r')\n",
    "    variable_array = np.array(variable[variable_name][0,pressure_levels,:,:])\n",
    "    return variable_array\n",
    "\n",
    "def Interpoler(variable_grid, method = 'nearest'):\n",
    "    interp_noaa_speeyd = griddata((X_grid_noaa.ravel(),Y_grid_noaa.ravel()), variable_grid.ravel()\n",
    "                              , (X_speedy_long[None,:], Y_speedy_lat[:,None]), method=method)\n",
    "    return interp_noaa_speeyd"
   ]
  },
  {
   "cell_type": "code",
   "execution_count": null,
   "metadata": {},
   "outputs": [],
   "source": [
    "path = '../Data/uwnd.2020.nc'\n",
    "variable_name = 'uwnd'\n",
    "uwnd = ReadData(path, variable_name)\n",
    "uwnd_specific_level = uwnd[0,:,:]"
   ]
  },
  {
   "cell_type": "code",
   "execution_count": null,
   "metadata": {},
   "outputs": [],
   "source": [
    "Interpoler(uwnd_specific_level)"
   ]
  },
  {
   "cell_type": "code",
   "execution_count": null,
   "metadata": {},
   "outputs": [],
   "source": []
  },
  {
   "cell_type": "code",
   "execution_count": null,
   "metadata": {},
   "outputs": [],
   "source": [
    "uwnd = Dataset('../Data/uwnd.2020.nc','r')\n",
    "pressure_levels = [1,2,3,5,7,9,11]\n",
    "uwnd_lt = np.array(uwnd['uwnd'][0,pressure_levels,:,:])\n",
    "uwnd_lt.shape\n",
    "level_925 = uwnd_lt[0,:,:].T"
   ]
  },
  {
   "cell_type": "code",
   "execution_count": null,
   "metadata": {},
   "outputs": [],
   "source": [
    "df_noaa = pd.DataFrame(data = level_925)"
   ]
  },
  {
   "cell_type": "code",
   "execution_count": null,
   "metadata": {
    "scrolled": false
   },
   "outputs": [],
   "source": [
    "df_noaa"
   ]
  },
  {
   "cell_type": "markdown",
   "metadata": {},
   "source": [
    "## GRIDS for NOAA and speedy"
   ]
  },
  {
   "cell_type": "code",
   "execution_count": null,
   "metadata": {},
   "outputs": [],
   "source": [
    "X_speedy_long = np.linspace(360-3.75,0,96)"
   ]
  },
  {
   "cell_type": "code",
   "execution_count": null,
   "metadata": {},
   "outputs": [],
   "source": [
    "Y_speedy_lat = np.array(\"-87.159 -83.479 -79.777 -76.070 -72.362 -68.652 -64.942 -61.232 -57.521 -53.810 -50.099 -46.389 -42.678 -38.967 -35.256 -31.545 -27.833 -24.122 -20.411 -16.700 -12.989 -9.278 -5.567 -1.856 1.856 5.567 9.278 12.989 16.700 20.411 24.122 27.833 31.545 35.256 38.967 42.678 46.389 50.099 53.810 57.521 61.232 64.942 68.652 72.362 76.070 79.777 83.479 87.159\".split(\" \"))\n",
    "Y_speedy_lat = Y_speedy_lat.astype(np.float32)"
   ]
  },
  {
   "cell_type": "code",
   "execution_count": null,
   "metadata": {},
   "outputs": [],
   "source": [
    "Y_speedy_lat"
   ]
  },
  {
   "cell_type": "code",
   "execution_count": null,
   "metadata": {},
   "outputs": [],
   "source": [
    "X_noaa_long = np.linspace(360-2.5,0,144)\n",
    "Y_noaa_lat = np.linspace(-90,90,73)"
   ]
  },
  {
   "cell_type": "code",
   "execution_count": null,
   "metadata": {},
   "outputs": [],
   "source": [
    "len(Y_noaa_lat)"
   ]
  },
  {
   "cell_type": "code",
   "execution_count": null,
   "metadata": {},
   "outputs": [],
   "source": [
    "from scipy import interpolate\n",
    "from scipy.interpolate import griddata"
   ]
  },
  {
   "cell_type": "code",
   "execution_count": null,
   "metadata": {},
   "outputs": [],
   "source": [
    "# From NOAA to Speedy\n",
    "#inter_function = interpolate.interp2d(X_noaa_long, Y_noaa_lat, df_noaa, kind='linear')\n",
    "#grid_x_noaa, grid_y_noaa = np.mgrid[0:360:2.5, -90:90:2.5]\n",
    "#points = (grid_x_noaa,grid_y_noaa)\n",
    "#griddata(points, df_noaa, points, method='cubic')"
   ]
  },
  {
   "cell_type": "code",
   "execution_count": null,
   "metadata": {},
   "outputs": [],
   "source": [
    "X_grid_noaa, Y_grid_noaa = np.meshgrid(X_noaa_long,Y_noaa_lat)\n",
    "interp_noaa_speeyd = griddata((X_grid_noaa.ravel(),Y_grid_noaa.ravel()), df_noaa.T.values.ravel()\n",
    "                              , (X_speedy_long[None,:], Y_speedy_lat[:,None]), method='nearest')"
   ]
  },
  {
   "cell_type": "code",
   "execution_count": null,
   "metadata": {},
   "outputs": [],
   "source": [
    "print(interp_noaa_speeyd.min(),interp_noaa_speeyd.max())"
   ]
  },
  {
   "cell_type": "code",
   "execution_count": null,
   "metadata": {},
   "outputs": [],
   "source": [
    "interp_noaa_speeyd.std()"
   ]
  },
  {
   "cell_type": "code",
   "execution_count": null,
   "metadata": {},
   "outputs": [],
   "source": [
    "df_noaa.values.std()"
   ]
  },
  {
   "cell_type": "code",
   "execution_count": null,
   "metadata": {},
   "outputs": [],
   "source": [
    "interp_noaa_speeyd.T.shape"
   ]
  },
  {
   "cell_type": "code",
   "execution_count": null,
   "metadata": {},
   "outputs": [],
   "source": [
    "df_noaa.min().min()"
   ]
  },
  {
   "cell_type": "code",
   "execution_count": null,
   "metadata": {},
   "outputs": [],
   "source": [
    "df_noaa.max().max()"
   ]
  },
  {
   "cell_type": "markdown",
   "metadata": {},
   "source": [
    "### Example"
   ]
  },
  {
   "cell_type": "code",
   "execution_count": null,
   "metadata": {},
   "outputs": [],
   "source": [
    "from scipy import interpolate\n",
    "from numpy import array\n",
    "import numpy as np\n",
    "z = array([[-2.2818,-2.2818,-0.9309,-0.9309],\n",
    "           [-2.2818,-2.2818,-0.9309,-0.9309],\n",
    "           [-1.4891,-1.4891,-0.5531,-0.5531],\n",
    "           [-1.4891,-1.4891,-0.5531,-0.5531]])\n",
    "\n",
    "rows = array([0.0000, 0.0000, 0.0000, 0.0000,\n",
    "              0.2620, 0.2784, 0.3379, 0.3526,\n",
    "              0.6121, 0.6351, 0.7118, 0.7309,\n",
    "              1.0000, 1.0000, 1.0000, 1.0000])\n",
    "\n",
    "cols = array([0.0000, 0.1750, 0.8180, 1.0000,\n",
    "              0.0000, 0.1750, 0.8180, 1.0000,\n",
    "              0.0000, 0.1750, 0.8180, 1.0000,\n",
    "              0.0000, 0.1750, 0.8180, 1.0000])\n",
    "\n",
    "xi = array([0.0000, 0.2620, 0.2784, 0.3379, 0.3526, 0.6121, 0.6351, 0.7118,\n",
    "               0.7309, 1.0000], dtype=np.float)\n",
    "yi = array([0.000, 0.175, 0.818, 1.000], dtype=np.float)\n",
    "\n",
    "GD = interpolate.griddata((rows, cols), z.ravel(),\n",
    "                          (xi[None,:], yi[:,None]), method='linear')\n",
    "I2 = interpolate.interp2d(rows, cols, z, kind='linear')"
   ]
  }
 ],
 "metadata": {
  "kernelspec": {
   "display_name": "Python 3",
   "language": "python",
   "name": "python3"
  },
  "language_info": {
   "codemirror_mode": {
    "name": "ipython",
    "version": 3
   },
   "file_extension": ".py",
   "mimetype": "text/x-python",
   "name": "python",
   "nbconvert_exporter": "python",
   "pygments_lexer": "ipython3",
   "version": "3.7.3"
  }
 },
 "nbformat": 4,
 "nbformat_minor": 4
}
