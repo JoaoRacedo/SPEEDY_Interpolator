{
 "cells": [
  {
   "cell_type": "markdown",
   "metadata": {},
   "source": [
    "## Project's Folder Structure"
   ]
  },
  {
   "cell_type": "markdown",
   "metadata": {},
   "source": [
    "```\n",
    "SPEEDY-Interpoler/\n",
    "├── .ipynb_checkpoints/\n",
    "│   └── Untitled-checkpoint.ipynb\n",
    "├── Data/\n",
    "│   ├── NOAA/\n",
    "│   │   ├── Atmospherical_Conditions/\n",
    "│   │   │   └── NOAA NETCDF Files of Atmospherical Conditions\n",
    "│   │   └── Pressure_Conditions/\n",
    "│   │       └── NOAA NETCDF Files relative of Pressure on Surface information\n",
    "│   └── SPEEDY/\n",
    "│       └── SPEEDY model .grd Files\n",
    "└──Notebooks/\n",
    "    └── Required Jupyter Notebooks to perform interpolation and error estimation\n",
    "```"
   ]
  },
  {
   "cell_type": "markdown",
   "metadata": {},
   "source": [
    "## Imports and Path Settings"
   ]
  },
  {
   "cell_type": "code",
   "execution_count": 1,
   "metadata": {},
   "outputs": [],
   "source": [
    "import os\n",
    "import struct\n",
    "from pathlib import Path\n",
    "\n",
    "import numpy as np\n",
    "from scipy.interpolate import griddata\n",
    "from netCDF4 import Dataset"
   ]
  },
  {
   "cell_type": "code",
   "execution_count": 87,
   "metadata": {},
   "outputs": [],
   "source": [
    "path = Path.cwd()/'../Data/NOAA/Atmospherical_Conditions'\n",
    "pressure_path = Path.cwd()/'../Data/NOAA/Pressure_Conditions'\n",
    "files = os.listdir(path)\n",
    "list.sort(files)"
   ]
  },
  {
   "cell_type": "markdown",
   "metadata": {},
   "source": [
    "## Model Settings"
   ]
  },
  {
   "cell_type": "code",
   "execution_count": 3,
   "metadata": {},
   "outputs": [],
   "source": [
    "# NOAA Default pressure leves\n",
    "pressure_levels = [1,2,3,5,7,9,11]\n",
    "pressure_values = [925,850,700,500,300,200,100]\n",
    "\n",
    "# Grids definition for SPEEDY and NOAA\n",
    "X_speedy_long = np.linspace(360-3.75,0,96)\n",
    "Y_speedy_lat = np.array(\"-87.159 -83.479 -79.777 -76.070 -72.362 -68.652 -64.942 -61.232 -57.521 -53.810 -50.099 -46.389 -42.678 -38.967 -35.256 -31.545 -27.833 -24.122 -20.411 -16.700 -12.989 -9.278 -5.567 -1.856 1.856 5.567 9.278 12.989 16.700 20.411 24.122 27.833 31.545 35.256 38.967 42.678 46.389 50.099 53.810 57.521 61.232 64.942 68.652 72.362 76.070 79.777 83.479 87.159\".split(\" \"))\n",
    "Y_speedy_lat = Y_speedy_lat.astype(np.float32)\n",
    "\n",
    "X_noaa_long = np.linspace(360-2.5,0,144)\n",
    "Y_noaa_lat = np.linspace(-90,90,73)\n",
    "X_grid_noaa, Y_grid_noaa = np.meshgrid(X_noaa_long,Y_noaa_lat)"
   ]
  },
  {
   "cell_type": "markdown",
   "metadata": {},
   "source": [
    "## Functions"
   ]
  },
  {
   "cell_type": "markdown",
   "metadata": {},
   "source": [
    "To find more information about griddata go [here](https://docs.scipy.org/doc/scipy/reference/generated/scipy.interpolate.griddata.html)"
   ]
  },
  {
   "cell_type": "code",
   "execution_count": 89,
   "metadata": {},
   "outputs": [],
   "source": [
    "def ReadData(path, variable_name,hour_instant):\n",
    "    '''\n",
    "        input variables\n",
    "            path          : path of the variable to be read\n",
    "            variable_name : name of the variable\n",
    "            hour_instant  : refers to NOAA instant of time which data will be readed.\n",
    "        output variable\n",
    "            variable_array: 3-dimensional array with all the pressure levels of the given variable\n",
    "    '''\n",
    "    variable = Dataset(path,'r')\n",
    "    variable_array = np.array(variable[variable_name][hour_instant,pressure_levels,:,:])\n",
    "    return variable_array\n",
    "\n",
    "def Interpoler(variable_grid, method = 'nearest'):\n",
    "    '''\n",
    "        input variables:\n",
    "            variable_grid : variable in specific level to be spatially interpolated\n",
    "            method        : method to use for the interpolation function (linear, nearest, cubic)\n",
    "        output variable\n",
    "            interp_noaa_speedy: speedy grid for certain level\n",
    "    '''\n",
    "    interp_noaa_speedy = griddata((X_grid_noaa.ravel(),Y_grid_noaa.ravel()), variable_grid.ravel()\n",
    "                              , (X_speedy_long[None,:], Y_speedy_lat[:,None]), method=method)\n",
    "    return interp_noaa_speedy\n",
    "\n",
    "def relative2specific(T,RH,p):\n",
    "    '''\n",
    "    Parameters\n",
    "    ----------\n",
    "        T : Temperature in K.\n",
    "        RH : Relative humidity in percentage [0,100].\n",
    "        p : Preassure in mbar.\n",
    "\n",
    "    Returns\n",
    "    -------\n",
    "        specific humidity (dimensionless)\n",
    "\n",
    "    '''  \n",
    "    T-=273.15\n",
    "    p*=100\n",
    "    RH/=100\n",
    "    e_s=611.21*np.exp((18.687-T/234.5)*(T/(T+257.14)))\n",
    "    e=e_s*RH\n",
    "    w=287.058/461.5*e/(p-e)\n",
    "    return w/(w+1)"
   ]
  },
  {
   "cell_type": "markdown",
   "metadata": {},
   "source": [
    "## Interpolation"
   ]
  },
  {
   "cell_type": "markdown",
   "metadata": {},
   "source": [
    "**Variables order in list**  \n",
    "0 : Air Temperature (7 lvls)  \n",
    "1 : RHumidity (7 lvls)  \n",
    "2 : Uwnd (7 lvls)  \n",
    "3 : Vwnd (7 lvls)  \n",
    "4 : Pressure (1 lvls)  \n",
    "5 : Specific Humidity (7 lvls)"
   ]
  },
  {
   "cell_type": "markdown",
   "metadata": {},
   "source": [
    "### Atmospherical Conditions interpolation"
   ]
  },
  {
   "cell_type": "code",
   "execution_count": 90,
   "metadata": {},
   "outputs": [],
   "source": [
    "variables_list = list()\n",
    "for file in files:\n",
    "    variable_name = file.split(\".\")[0]\n",
    "    variable_array = ReadData(path/file, variable_name,0)\n",
    "    variable_levels = dict()\n",
    "    for i in range(len(pressure_levels)):\n",
    "        variable_level = variable_array[i,:,:]\n",
    "        variable_levels[variable_name+\"_\"+str(pressure_levels[i])] = Interpoler(variable_level)\n",
    "    variables_list.append(variable_levels)"
   ]
  },
  {
   "cell_type": "markdown",
   "metadata": {},
   "source": [
    "### Pressure interpolation"
   ]
  },
  {
   "cell_type": "code",
   "execution_count": 35,
   "metadata": {},
   "outputs": [],
   "source": [
    "variable_levels = dict()\n",
    "variable_pressure = Dataset(pressure_path/'pres.sfc.2020.nc','r')\n",
    "variable_name = 'pres'\n",
    "variable_array_pressure = np.array(variable_pressure[variable_name][3,:,:])\n",
    "variable_levels[variable_name+\"_1\"] = Interpoler(variable_array_pressure)\n",
    "variables_list.append(variable_levels)"
   ]
  },
  {
   "cell_type": "markdown",
   "metadata": {},
   "source": [
    "### Relative Humidity to Specific Humidity Convertion"
   ]
  },
  {
   "cell_type": "code",
   "execution_count": 42,
   "metadata": {},
   "outputs": [],
   "source": [
    "variable_levels = dict()\n",
    "for j,i in enumerate(pressure_levels):\n",
    "    RH_data = variables_list[1]['rhum_'+str(i)].copy()\n",
    "    air_T_data = variables_list[0]['air_'+str(i)].copy()\n",
    "    pressure = pressure_values[j]\n",
    "    #print(RH_data.shape, air_T_data.shape, pressure)\n",
    "    variable_levels['shum_'+str(i)] = np.vectorize(relative2specific)(air_T_data,\n",
    "                                                                      RH_data,\n",
    "                                                                      pressure)\n",
    "variables_list.append(variable_levels)"
   ]
  },
  {
   "cell_type": "markdown",
   "metadata": {},
   "source": [
    "## Convert to GRD vector form"
   ]
  },
  {
   "cell_type": "code",
   "execution_count": 43,
   "metadata": {},
   "outputs": [
    {
     "name": "stdout",
     "output_type": "stream",
     "text": [
      "['air_1', 'air_2', 'air_3', 'air_5', 'air_7', 'air_9', 'air_11']\n",
      "['rhum_1', 'rhum_2', 'rhum_3', 'rhum_5', 'rhum_7', 'rhum_9', 'rhum_11']\n",
      "['uwnd_1', 'uwnd_2', 'uwnd_3', 'uwnd_5', 'uwnd_7', 'uwnd_9', 'uwnd_11']\n",
      "['vwnd_1', 'vwnd_2', 'vwnd_3', 'vwnd_5', 'vwnd_7', 'vwnd_9', 'vwnd_11']\n",
      "['pres_1']\n",
      "['shum_1', 'shum_2', 'shum_3', 'shum_5', 'shum_7', 'shum_9', 'shum_11']\n"
     ]
    }
   ],
   "source": [
    "component_names = list()\n",
    "for i in range(len(variables_list)):\n",
    "    print(list(variables_list[i].keys()))\n",
    "    component_names.append(list(variables_list[i].keys()))"
   ]
  },
  {
   "cell_type": "markdown",
   "metadata": {},
   "source": [
    "### Sanity checks"
   ]
  },
  {
   "cell_type": "markdown",
   "metadata": {},
   "source": [
    "The order must be: uwnd, vwnd, air, shum, pres"
   ]
  },
  {
   "cell_type": "code",
   "execution_count": 62,
   "metadata": {},
   "outputs": [
    {
     "name": "stdout",
     "output_type": "stream",
     "text": [
      "air\n",
      "[310.5, 304.71, 288.5, 273.0, 247.0, 236.5, 234.20999]\n",
      "310.5\n",
      "[231.8, 231.2, 227.5, 222.3, 209.8, 199.70999, 188.6]\n",
      "188.6\n"
     ]
    }
   ],
   "source": [
    "max_list = list()\n",
    "min_list = list()\n",
    "for i in component_names[0]:\n",
    "    max_list.append(variables_list[0][i].max())\n",
    "    min_list.append(variables_list[0][i].min())\n",
    "print('air')\n",
    "print(max_list)\n",
    "print(max(max_list))\n",
    "print(min_list)\n",
    "print(min(min_list))"
   ]
  },
  {
   "cell_type": "code",
   "execution_count": 61,
   "metadata": {},
   "outputs": [
    {
     "name": "stdout",
     "output_type": "stream",
     "text": [
      "uwnd\n",
      "[25.199997, 27.809998, 34.699997, 54.899994, 95.10999, 85.60999, 54.809998]\n",
      "95.10999\n",
      "[-20.800003, -18.399994, -18.699997, -20.399994, -23.899994, -18.399994, -20.600006]\n",
      "-23.899994\n"
     ]
    }
   ],
   "source": [
    "max_list = list()\n",
    "min_list = list()\n",
    "for i in component_names[2]:\n",
    "    max_list.append(variables_list[2][i].max())\n",
    "    min_list.append(variables_list[2][i].min())\n",
    "print('uwnd')\n",
    "print(max_list)\n",
    "print(max(max_list))\n",
    "print(min_list)\n",
    "print(min(min_list))"
   ]
  },
  {
   "cell_type": "code",
   "execution_count": 49,
   "metadata": {},
   "outputs": [
    {
     "name": "stdout",
     "output_type": "stream",
     "text": [
      "vwnd\n",
      "[29.399994, 28.0, 28.399994, 35.0, 55.309998, 49.61, 29.399994]\n",
      "55.309998\n",
      "[-22.600006, -23.199997, -25.300003, -31.800003, -62.0, -48.0, -26.399994]\n",
      "-62.0\n"
     ]
    }
   ],
   "source": [
    "max_list = list()\n",
    "min_list = list()\n",
    "for i in component_names[3]:\n",
    "    max_list.append(variables_list[3][i].max())\n",
    "    min_list.append(variables_list[3][i].min())\n",
    "print('vwnd')\n",
    "print(max_list)\n",
    "print(max(max_list))\n",
    "print(min_list)\n",
    "print(min(min_list))"
   ]
  },
  {
   "cell_type": "code",
   "execution_count": 51,
   "metadata": {},
   "outputs": [
    {
     "name": "stdout",
     "output_type": "stream",
     "text": [
      "shum\n",
      "[0.02414183614302363, 0.01893843207610807, 0.011877547628140524, 0.005946422493147153, 0.0009729118541460497, 0.00018875902855863325, 2.0238476133343783e-05]\n",
      "0.02414183614302363\n",
      "[0.0, 0.0, 0.0, 0.0, 0.0, 0.0, 0.0]\n",
      "0.0\n"
     ]
    }
   ],
   "source": [
    "max_list = list()\n",
    "min_list = list()\n",
    "for i in component_names[5]:\n",
    "    max_list.append(variables_list[5][i].max())\n",
    "    min_list.append(variables_list[5][i].min())\n",
    "print('shum')\n",
    "print(max_list)\n",
    "print(max(max_list))\n",
    "print(min_list)\n",
    "print(min(min_list))"
   ]
  },
  {
   "cell_type": "code",
   "execution_count": 64,
   "metadata": {},
   "outputs": [
    {
     "name": "stdout",
     "output_type": "stream",
     "text": [
      "press\n",
      "104900.0\n",
      "50230.0\n"
     ]
    }
   ],
   "source": [
    "print('press')\n",
    "print(variables_list[4]['pres_1'].max())\n",
    "print(variables_list[4]['pres_1'].min())"
   ]
  },
  {
   "cell_type": "markdown",
   "metadata": {},
   "source": [
    "### Convert to list in order to write it in GRD file\n",
    "\n",
    "# REMEMBER TO FLIPFLIP DATA!!!!!"
   ]
  },
  {
   "cell_type": "code",
   "execution_count": 79,
   "metadata": {},
   "outputs": [],
   "source": [
    "result_list = list()\n",
    "#uwnd\n",
    "for level in component_names[2]: \n",
    "    result_list.extend(np.reshape(variables_list[2][level], 96*48).tolist())\n",
    "#vwnd\n",
    "for level in component_names[3]: \n",
    "    result_list.extend(np.reshape(variables_list[3][level], 96*48).tolist())\n",
    "#air\n",
    "for level in component_names[0]:\n",
    "    result_list.extend(np.reshape(variables_list[0][level], 96*48).tolist())\n",
    "#shum\n",
    "for level in component_names[5]:\n",
    "    result_list.extend(np.reshape(variables_list[5][level], 96*48).tolist())\n",
    "#pres\n",
    "result_list.extend(np.reshape(variables_list[4]['pres_1'], 96*48).tolist())"
   ]
  },
  {
   "cell_type": "code",
   "execution_count": 80,
   "metadata": {},
   "outputs": [
    {
     "data": {
      "text/plain": [
       "133632"
      ]
     },
     "execution_count": 80,
     "metadata": {},
     "output_type": "execute_result"
    }
   ],
   "source": [
    "len(result_list)"
   ]
  },
  {
   "cell_type": "markdown",
   "metadata": {},
   "source": [
    "### File Writing"
   ]
  },
  {
   "cell_type": "code",
   "execution_count": 82,
   "metadata": {},
   "outputs": [],
   "source": [
    "fout = open('test3.grd', 'wb')\n",
    "for i in result_list:\n",
    "    fout.write(struct.pack('>f',i))\n",
    "fout.close()"
   ]
  }
 ],
 "metadata": {
  "kernelspec": {
   "display_name": "Python 3",
   "language": "python",
   "name": "python3"
  },
  "language_info": {
   "codemirror_mode": {
    "name": "ipython",
    "version": 3
   },
   "file_extension": ".py",
   "mimetype": "text/x-python",
   "name": "python",
   "nbconvert_exporter": "python",
   "pygments_lexer": "ipython3",
   "version": "3.7.7"
  }
 },
 "nbformat": 4,
 "nbformat_minor": 4
}
