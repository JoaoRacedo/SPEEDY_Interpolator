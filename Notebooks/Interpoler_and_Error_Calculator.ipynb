{
 "cells": [
  {
   "cell_type": "code",
   "execution_count": 38,
   "metadata": {},
   "outputs": [],
   "source": [
    "import numpy as np\n",
    "import pandas as pd\n",
    "from netCDF4 import Dataset\n",
    "import os\n",
    "import glob\n",
    "from scipy.interpolate import griddata\n",
    "import struct\n",
    "import seaborn as sns\n",
    "import matplotlib.pyplot as plt\n",
    "from sklearn.metrics import mean_squared_error\n",
    "from sklearn.metrics import mean_absolute_error"
   ]
  },
  {
   "cell_type": "markdown",
   "metadata": {},
   "source": [
    "## Interpolation NOAA TO SPEEDY"
   ]
  },
  {
   "cell_type": "code",
   "execution_count": 2,
   "metadata": {},
   "outputs": [],
   "source": [
    "# Default pressure leves\n",
    "pressure_levels = [1,2,3,5,7,9,11]\n",
    "pressure_values = [925,850,700,500,300,200,100]\n",
    "# Grids definition for SPEEDY and NOAA\n",
    "X_speedy_long = np.linspace(360-3.75,0,96)\n",
    "Y_speedy_lat = np.array(\"-87.159 -83.479 -79.777 -76.070 -72.362 -68.652 -64.942 -61.232 -57.521 -53.810 -50.099 -46.389 -42.678 -38.967 -35.256 -31.545 -27.833 -24.122 -20.411 -16.700 -12.989 -9.278 -5.567 -1.856 1.856 5.567 9.278 12.989 16.700 20.411 24.122 27.833 31.545 35.256 38.967 42.678 46.389 50.099 53.810 57.521 61.232 64.942 68.652 72.362 76.070 79.777 83.479 87.159\".split(\" \"))\n",
    "Y_speedy_lat = Y_speedy_lat.astype(np.float32)\n",
    "X_noaa_long = np.linspace(360-2.5,0,144)\n",
    "Y_noaa_lat = np.linspace(-90,90,73)\n",
    "X_grid_noaa, Y_grid_noaa = np.meshgrid(X_noaa_long,Y_noaa_lat)"
   ]
  },
  {
   "cell_type": "code",
   "execution_count": 3,
   "metadata": {},
   "outputs": [],
   "source": [
    "def ReadData(path, variable_name):\n",
    "    '''\n",
    "        input variables\n",
    "            path          : path of the variable to be read\n",
    "            variable_name : name of the variable\n",
    "        output variable\n",
    "            variable_array: 3-dimensional array with all the pressure levels of the given variable\n",
    "    '''\n",
    "    variable = Dataset(path,'r')\n",
    "    variable_array = np.array(variable[variable_name][1,pressure_levels,:,:])\n",
    "    return variable_array\n",
    "\n",
    "def Interpoler(variable_grid, method = 'nearest'):\n",
    "    '''\n",
    "        input variables:\n",
    "            variable_grid : variable in specific level to be spatially interpolated\n",
    "            method        : method to use for the interpolation function (linear, nearest, cubic)\n",
    "        output variable\n",
    "            interp_noaa_speedy: speedy grid for certain level\n",
    "    '''\n",
    "    interp_noaa_speedy = griddata((X_grid_noaa.ravel(),Y_grid_noaa.ravel()), variable_grid.ravel()\n",
    "                              , (X_speedy_long[None,:], Y_speedy_lat[:,None]), method=method)\n",
    "    return interp_noaa_speedy\n",
    "\n",
    "def relative2specific(T,RH,p):\n",
    "    '''\n",
    "    Parameters\n",
    "    ----------\n",
    "    T : Temperature in K.\n",
    "    RH : Relative humidity in percentage [0,100].\n",
    "    p : Preassure in mbar.\n",
    "\n",
    "    Returns\n",
    "    -------\n",
    "    specific humidity (dimensionless)\n",
    "\n",
    "    '''  \n",
    "    T-=273.15\n",
    "    p*=100\n",
    "    RH/=100\n",
    "    e_s=611.21*np.exp((18.687-T/234.5)*(T/(T+257.14)))\n",
    "    e=e_s*RH\n",
    "    w=287.058/461.5*e/(p-e)\n",
    "    return w/(w+1)"
   ]
  },
  {
   "cell_type": "code",
   "execution_count": 4,
   "metadata": {},
   "outputs": [
    {
     "data": {
      "text/plain": [
       "['/Users/soniavalbuena/Desktop/Codes/AML/notebooks/../Data/uwnd.2020.nc',\n",
       " '/Users/soniavalbuena/Desktop/Codes/AML/notebooks/../Data/rhum.2020.nc',\n",
       " '/Users/soniavalbuena/Desktop/Codes/AML/notebooks/../Data/air.2020.nc',\n",
       " '/Users/soniavalbuena/Desktop/Codes/AML/notebooks/../Data/vwnd.2020.nc']"
      ]
     },
     "execution_count": 4,
     "metadata": {},
     "output_type": "execute_result"
    }
   ],
   "source": [
    "folder = os.getcwd()+'/../Data/*'\n",
    "files = glob.glob(folder)\n",
    "files"
   ]
  },
  {
   "cell_type": "code",
   "execution_count": 5,
   "metadata": {},
   "outputs": [],
   "source": [
    "variables_list = list()\n",
    "for file in files:\n",
    "    variable_name = file.split(\"/\")[-1].split(\".\")[0]\n",
    "    variable_array = ReadData(file, variable_name)\n",
    "    variable_levels = dict()\n",
    "    for i in range(len(pressure_levels)):\n",
    "        variable_level = variable_array[i,:,:]\n",
    "        variable_levels[variable_name+\"_\"+str(pressure_levels[i])] = Interpoler(variable_level)\n",
    "    variables_list.append(variable_levels)"
   ]
  },
  {
   "cell_type": "code",
   "execution_count": 6,
   "metadata": {},
   "outputs": [],
   "source": [
    "variable_levels = dict()\n",
    "variable_pressure = Dataset('/Users/soniavalbuena/Desktop/Codes/AML/notebooks/../pres.2020.nc','r')\n",
    "variable_name = 'pres'\n",
    "variable_array_pressure = np.array(variable_pressure[variable_name][1,:,:])\n",
    "variable_levels[variable_name+\"_1\"] = Interpoler(variable_array_pressure)\n",
    "variables_list.append(variable_levels)"
   ]
  },
  {
   "cell_type": "code",
   "execution_count": 7,
   "metadata": {},
   "outputs": [],
   "source": [
    "variable_levels = dict()\n",
    "for j,i in enumerate(pressure_levels):\n",
    "    RH_data = variables_list[1]['rhum_'+str(i)]\n",
    "    air_T_data = variables_list[2]['air_'+str(i)]\n",
    "    pressure = pressure_values[j]\n",
    "    #print(RH_data.shape, air_T_data.shape, pressure)\n",
    "    variable_levels['shum_'+str(i)] = np.vectorize(relative2specific)(variables_list[2]['air_'+str(i)].copy(),\n",
    "                                                                      variables_list[1]['rhum_'+str(i)].copy(),\n",
    "                                                                      pressure)\n",
    "variables_list.append(variable_levels)"
   ]
  },
  {
   "cell_type": "code",
   "execution_count": 8,
   "metadata": {},
   "outputs": [
    {
     "name": "stdout",
     "output_type": "stream",
     "text": [
      "['uwnd_1', 'uwnd_2', 'uwnd_3', 'uwnd_5', 'uwnd_7', 'uwnd_9', 'uwnd_11']\n",
      "['rhum_1', 'rhum_2', 'rhum_3', 'rhum_5', 'rhum_7', 'rhum_9', 'rhum_11']\n",
      "['air_1', 'air_2', 'air_3', 'air_5', 'air_7', 'air_9', 'air_11']\n",
      "['vwnd_1', 'vwnd_2', 'vwnd_3', 'vwnd_5', 'vwnd_7', 'vwnd_9', 'vwnd_11']\n",
      "['pres_1']\n",
      "['shum_1', 'shum_2', 'shum_3', 'shum_5', 'shum_7', 'shum_9', 'shum_11']\n"
     ]
    }
   ],
   "source": [
    "component_names = list()\n",
    "for i in range(len(variables_list)):\n",
    "    print(list(variables_list[i].keys()))\n",
    "    component_names.append(list(variables_list[i].keys()))"
   ]
  },
  {
   "cell_type": "code",
   "execution_count": 9,
   "metadata": {},
   "outputs": [],
   "source": [
    "#variables_list[0]['uwnd_1'].shape"
   ]
  },
  {
   "cell_type": "markdown",
   "metadata": {},
   "source": [
    "# Reshape is column major!!!"
   ]
  },
  {
   "cell_type": "code",
   "execution_count": 10,
   "metadata": {},
   "outputs": [],
   "source": [
    "U_noaa = list()\n",
    "V_noaa = list()\n",
    "T_noaa = list()\n",
    "SH_noaa = list()\n",
    "p_noaa = list()\n",
    "\n",
    "#uwnd\n",
    "for level in component_names[0]: \n",
    "    #U_noaa.extend(np.reshape(variables_list[0][level], 96*48).tolist())\n",
    "    U_noaa.extend(list(np.flip(np.flip(np.reshape(variables_list[0][level], (48,96))), axis = 1).flatten()))\n",
    "#vwnd\n",
    "for level in component_names[3]: \n",
    "    #V_noaa.extend(np.reshape(variables_list[3][level], 96*48).tolist())\n",
    "    V_noaa.extend(list(np.flip(np.flip(np.reshape(variables_list[3][level], (48,96))), axis = 1).flatten()))\n",
    "#air\n",
    "for level in component_names[2]:\n",
    "    #T_noaa.extend(np.reshape(variables_list[2][level], 96*48).tolist())\n",
    "    T_noaa.extend(list(np.flip(np.flip(np.reshape(variables_list[2][level], (48,96))), axis = 1).flatten()))\n",
    "#shum\n",
    "for level in component_names[5]:\n",
    "    #SH_noaa.extend(np.reshape(variables_list[5][level], 96*48).tolist())\n",
    "    SH_noaa.extend(list(np.flip(np.flip(np.reshape(variables_list[5][level], (48,96))), axis = 1).flatten()))\n",
    "#pres\n",
    "\n",
    "p_noaa.extend(list(np.flip(np.flip(np.reshape(variables_list[4]['pres_1'], (48,96))), axis = 1).flatten()))"
   ]
  },
  {
   "cell_type": "code",
   "execution_count": 11,
   "metadata": {},
   "outputs": [],
   "source": [
    "data_list = U_noaa + V_noaa + T_noaa + SH_noaa + p_noaa"
   ]
  },
  {
   "cell_type": "code",
   "execution_count": 12,
   "metadata": {},
   "outputs": [],
   "source": [
    "fout = open('2020010106.grd', 'wb')\n",
    "for i in data_list:\n",
    "    fout.write(struct.pack('>f',i))\n",
    "fout.close()"
   ]
  },
  {
   "cell_type": "code",
   "execution_count": 13,
   "metadata": {},
   "outputs": [],
   "source": [
    "#fout = open('test3.grd', 'wb')\n",
    "#for i in result_list:\n",
    "#    fout.write(struct.pack('>f',i))\n",
    "#fout.close()"
   ]
  },
  {
   "cell_type": "code",
   "execution_count": 14,
   "metadata": {},
   "outputs": [],
   "source": [
    "#T_NOAA = np.reshape(T_noaa,(nlev,nlat,nlon))\n",
    "#plt.contourf(T_NOAA[1,:,:])"
   ]
  },
  {
   "cell_type": "code",
   "execution_count": 15,
   "metadata": {},
   "outputs": [],
   "source": [
    "#T = np.reshape(T_speedy,(nlev,nlat,nlon))\n",
    "#plt.contourf(T[1,:,:])"
   ]
  },
  {
   "cell_type": "code",
   "execution_count": 16,
   "metadata": {},
   "outputs": [],
   "source": [
    "#p_noaa_new = list(np.flip(np.flip(np.reshape(p_noaa, (48,96))), axis = 1).flatten())"
   ]
  },
  {
   "cell_type": "code",
   "execution_count": 17,
   "metadata": {},
   "outputs": [],
   "source": [
    "#plt.contourf(np.rot90(np.reshape(p_noaa, (48,96)), k=2, axes=(0, 1)))\n",
    "#plt.contourf(np.flip(np.flip(np.reshape(p_noaa, (48,96))), axis = 1))\n",
    "#plt.contourf(np.flip(np.reshape(p_noaa, (48,96)) ,axis = (0,1)))\n",
    "#plt.contourf(np.reshape(p_noaa, (48,96)))"
   ]
  },
  {
   "cell_type": "code",
   "execution_count": 18,
   "metadata": {},
   "outputs": [],
   "source": [
    "#plt.contourf(np.reshape(p_speedy, (48,96)))"
   ]
  },
  {
   "cell_type": "markdown",
   "metadata": {},
   "source": [
    "## LECTURE OF DATA"
   ]
  },
  {
   "cell_type": "code",
   "execution_count": 26,
   "metadata": {},
   "outputs": [],
   "source": [
    "## SPEEDY Grid\n",
    "nlon=96;\n",
    "nlat=48;\n",
    "nlev=7;\n",
    "filename = '2020010106.grd'"
   ]
  },
  {
   "cell_type": "code",
   "execution_count": 27,
   "metadata": {},
   "outputs": [],
   "source": [
    "infile = open(filename, \"rb\")    \n",
    "data = np.fromfile(infile , '>f4')"
   ]
  },
  {
   "cell_type": "code",
   "execution_count": 28,
   "metadata": {},
   "outputs": [],
   "source": [
    "U_speedy = list()\n",
    "l = 0\n",
    "for i in range(nlev*nlat*nlon):\n",
    "    U_speedy.append(data[l])\n",
    "    l += 1\n",
    "V_speedy = list()\n",
    "for i in range(nlev*nlat*nlon):\n",
    "    V_speedy.append(data[l])\n",
    "    l += 1\n",
    "T_speedy = list()\n",
    "for i in range(nlev*nlat*nlon):\n",
    "    T_speedy.append(data[l])\n",
    "    l += 1\n",
    "SH_speedy = list()\n",
    "for i in range(nlev*nlat*nlon):\n",
    "    SH_speedy.append(data[l])\n",
    "    l += 1\n",
    "p_speedy = list()\n",
    "for i in range(nlat*nlon):\n",
    "    p_speedy.append(data[l])\n",
    "    l += 1"
   ]
  },
  {
   "cell_type": "code",
   "execution_count": 96,
   "metadata": {},
   "outputs": [],
   "source": [
    "def Error_plots(true_noaa, forcast_speedy):\n",
    "    #true_noaa_array = np.reshape(true_noaa ,(96,48))\n",
    "    #forcast_speedy_array = np.reshape(forcast_speedy ,(96,48))\n",
    "    RMSE = mean_squared_error(true_noaa, forcast_speedy)\n",
    "    MSE = mean_absolute_error(true_noaa, forcast_speedy)\n",
    "    plt.figure(figsize=(16,8))\n",
    "    ax1 = plt.subplot(131)\n",
    "    ax1 = plt.contourf(true_noaa)\n",
    "    ax1 = plt.title(\"TRUE NOAA\")\n",
    "    ax2 = plt.subplot(132)\n",
    "    ax2 = plt.contourf(forcast_speedy)\n",
    "    ax2 = plt.title(\"FORCAST SPEEDY\")\n",
    "    ax3 = plt.subplot(133)\n",
    "    ax3 = plt.contourf(np.abs(true_noaa-forcast_speedy))\n",
    "    ax3 = plt.title(\"ABS TRUE NOAA - FORCAST SPEEDY (ERRORS)\")\n",
    "    plt.colorbar()\n",
    "    plt.show()\n",
    "    print(\"RMSE:\",RMSE, \"MSE:\", MSE)\n",
    "    return RMSE, MSE"
   ]
  },
  {
   "cell_type": "code",
   "execution_count": 97,
   "metadata": {},
   "outputs": [],
   "source": [
    "l_s = 0\n",
    "forcast_speedy_U = np.empty([nlon, nlat,nlev])\n",
    "for k in range(nlev):\n",
    "    for j in range(nlat):\n",
    "        for i in range(nlon):\n",
    "            forcast_speedy_U[i,j,k] = data[l_s]\n",
    "            l_s=l_s+1\n",
    "\n",
    "l_n = 0\n",
    "true_noaa_U = np.empty([nlon, nlat,nlev])\n",
    "for k in range(nlev):\n",
    "    for j in range(nlat):\n",
    "        for i in range(nlon):\n",
    "            true_noaa_U[i,j,k] = U_noaa[l_n]\n",
    "            l_n=l_n+1"
   ]
  },
  {
   "cell_type": "code",
   "execution_count": 98,
   "metadata": {},
   "outputs": [
    {
     "data": {
      "image/png": "[encoded data removed]",
      "text/plain": [
       "<Figure size 1152x576 with 4 Axes>"
      ]
     },
     "metadata": {
      "needs_background": "light"
     },
     "output_type": "display_data"
    },
    {
     "name": "stdout",
     "output_type": "stream",
     "text": [
      "RMSE: 25.10413190812166 MSE: 3.7732475490401747\n"
     ]
    }
   ],
   "source": [
    "RMSE, MSE = Error_plots(true_noaa_U[:,:,0], forcast_speedy_U[:,:,0])"
   ]
  },
  {
   "cell_type": "code",
   "execution_count": null,
   "metadata": {},
   "outputs": [],
   "source": []
  },
  {
   "cell_type": "code",
   "execution_count": 24,
   "metadata": {},
   "outputs": [],
   "source": [
    "#fout = open('2020010100.grd', 'wb')\n",
    "#for i in data_list:\n",
    "#    fout.write(struct.pack('>f',i))\n",
    "#fout.close()"
   ]
  },
  {
   "cell_type": "code",
   "execution_count": 25,
   "metadata": {},
   "outputs": [
    {
     "data": {
      "text/plain": [
       "'l = 0\\nU = np.empty([nlon, nlat,nlev])\\nfor k in range(nlev):\\n    for j in range(nlat):\\n        for i in range(nlon):\\n            U[i,j,k] = data[l]\\n            l=l+1\\nV = np.empty([nlon, nlat,nlev])\\nfor k in range(nlev):\\n    for j in range(nlat):\\n        for i in range(nlon):\\n            V[i,j,k] = data[l]\\n            l=l+1\\nT = np.empty([nlon, nlat,nlev])\\nfor k in range(nlev):\\n    for j in range(nlat):\\n        for i in range(nlon):\\n            T[i,j,k] = data[l]\\n            l=l+1\\nSH = np.empty([nlon, nlat,nlev])\\nfor k in range(nlev):\\n    for j in range(nlat):\\n        for i in range(nlon):\\n            SH[i,j,k] = data[l]\\n            l=l+1\\np = np.empty([nlon, nlat])\\nfor j in range(nlat):\\n    for i in range(nlon):\\n        p[i,j] = data[l]\\n        l=l+1'"
      ]
     },
     "execution_count": 25,
     "metadata": {},
     "output_type": "execute_result"
    }
   ],
   "source": [
    "'''l = 0\n",
    "U = np.empty([nlon, nlat,nlev])\n",
    "for k in range(nlev):\n",
    "    for j in range(nlat):\n",
    "        for i in range(nlon):\n",
    "            U[i,j,k] = data[l]\n",
    "            l=l+1\n",
    "V = np.empty([nlon, nlat,nlev])\n",
    "for k in range(nlev):\n",
    "    for j in range(nlat):\n",
    "        for i in range(nlon):\n",
    "            V[i,j,k] = data[l]\n",
    "            l=l+1\n",
    "T = np.empty([nlon, nlat,nlev])\n",
    "for k in range(nlev):\n",
    "    for j in range(nlat):\n",
    "        for i in range(nlon):\n",
    "            T[i,j,k] = data[l]\n",
    "            l=l+1\n",
    "SH = np.empty([nlon, nlat,nlev])\n",
    "for k in range(nlev):\n",
    "    for j in range(nlat):\n",
    "        for i in range(nlon):\n",
    "            SH[i,j,k] = data[l]\n",
    "            l=l+1\n",
    "p = np.empty([nlon, nlat])\n",
    "for j in range(nlat):\n",
    "    for i in range(nlon):\n",
    "        p[i,j] = data[l]\n",
    "        l=l+1'''"
   ]
  }
 ],
 "metadata": {
  "kernelspec": {
   "display_name": "Python 3",
   "language": "python",
   "name": "python3"
  },
  "language_info": {
   "codemirror_mode": {
    "name": "ipython",
    "version": 3
   },
   "file_extension": ".py",
   "mimetype": "text/x-python",
   "name": "python",
   "nbconvert_exporter": "python",
   "pygments_lexer": "ipython3",
   "version": "3.7.7"
  }
 },
 "nbformat": 4,
 "nbformat_minor": 4
}
